{
 "cells": [
  {
   "cell_type": "code",
   "execution_count": 3,
   "metadata": {},
   "outputs": [],
   "source": [
    "import numpy as np\n",
    "import pandas as pd\n",
    "\n",
    "#kmeans\n",
    "from sklearn.cluster import KMeans\n",
    "\n",
    "#plot stuff\n",
    "import matplotlib.pyplot as mpl\n",
    "\n",
    "#tsne\n",
    "from sklearn.manifold import TSNE\n",
    "\n",
    "#pca \n",
    "from sklearn.decomposition import PCA"
   ]
  },
  {
   "cell_type": "code",
   "execution_count": 4,
   "metadata": {},
   "outputs": [
    {
     "name": "stdout",
     "output_type": "stream",
     "text": [
      "(18294, 2774)\n"
     ]
    }
   ],
   "source": [
    "#get count table\n",
    "counts = pd.read_csv(\"mouseCounts.csv\")\n",
    "print(counts.shape)\n",
    "counts = counts.values[1:,1:]"
   ]
  },
  {
   "cell_type": "code",
   "execution_count": null,
   "metadata": {},
   "outputs": [],
   "source": [
    "#run tsne\n",
    "tsne = TSNE(n_components = 2, n_iter = 5000).fit_transform(counts)"
   ]
  },
  {
   "cell_type": "code",
   "execution_count": null,
   "metadata": {},
   "outputs": [],
   "source": [
    "#plot\n",
    "mpl.figure(1)\n",
    "mpl.scatter(tsne[:,0],tsne[:,1])\n",
    "mpl.show()"
   ]
  },
  {
   "cell_type": "code",
   "execution_count": 5,
   "metadata": {},
   "outputs": [],
   "source": [
    "#run pca for 5 dimensions\n",
    "pca = PCA(n_components = 5).fit_transform(counts)\n",
    "\n",
    "#kmeans on top 5 PCs\n",
    "kmeans = KMeans().fit(pca)"
   ]
  },
  {
   "cell_type": "code",
   "execution_count": 6,
   "metadata": {},
   "outputs": [
    {
     "data": {
      "image/png": "[encoded data removed]",
      "text/plain": [
       "<Figure size 432x288 with 1 Axes>"
      ]
     },
     "metadata": {},
     "output_type": "display_data"
    }
   ],
   "source": [
    "#plot\n",
    "mpl.figure(2)\n",
    "mpl.scatter(pca[:,0], pca[:,1])\n",
    "mpl.show()"
   ]
  }
 ],
 "metadata": {
  "kernelspec": {
   "display_name": "Python 3",
   "language": "python",
   "name": "python3"
  },
  "language_info": {
   "codemirror_mode": {
    "name": "ipython",
    "version": 3
   },
   "file_extension": ".py",
   "mimetype": "text/x-python",
   "name": "python",
   "nbconvert_exporter": "python",
   "pygments_lexer": "ipython3",
   "version": "3.6.5"
  }
 },
 "nbformat": 4,
 "nbformat_minor": 2
}
